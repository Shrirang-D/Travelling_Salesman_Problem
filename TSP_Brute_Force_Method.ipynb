{
 "cells": [
  {
   "cell_type": "code",
   "execution_count": 2,
   "id": "fe0ccff6",
   "metadata": {},
   "outputs": [],
   "source": [
    "cost_matrix = [['-',20,30,10,11],[15,'-',16,4,2],[3,5,'-',2,4],[19,6,18,'-',3],[16,4,7,16,'-']]"
   ]
  },
  {
   "cell_type": "code",
   "execution_count": 3,
   "id": "c7da65e8",
   "metadata": {},
   "outputs": [],
   "source": [
    "def city_number(city):\n",
    "    if city == 'A':\n",
    "        return 0\n",
    "    elif city == 'B':\n",
    "        return 1\n",
    "    elif city == 'C':\n",
    "        return 2\n",
    "    elif city == 'D':\n",
    "        return 3\n",
    "    elif city == 'E':\n",
    "        return 4"
   ]
  },
  {
   "cell_type": "code",
   "execution_count": 4,
   "id": "979a6395",
   "metadata": {},
   "outputs": [],
   "source": [
    "def cost_of_trip(a,b):\n",
    "    return cost_matrix[a][b]"
   ]
  },
  {
   "cell_type": "code",
   "execution_count": 5,
   "id": "0b95bcf4",
   "metadata": {},
   "outputs": [
    {
     "name": "stdout",
     "output_type": "stream",
     "text": [
      "No. possible paths are: 120\n",
      "All possible Routes are: \n",
      "['A', 'B', 'C', 'D', 'E', 'A']\n",
      "['A', 'B', 'C', 'E', 'D', 'A']\n",
      "['A', 'B', 'D', 'C', 'E', 'A']\n",
      "['A', 'B', 'D', 'E', 'C', 'A']\n",
      "['A', 'B', 'E', 'C', 'D', 'A']\n",
      "['A', 'B', 'E', 'D', 'C', 'A']\n",
      "['A', 'C', 'B', 'D', 'E', 'A']\n",
      "['A', 'C', 'B', 'E', 'D', 'A']\n",
      "['A', 'C', 'D', 'B', 'E', 'A']\n",
      "['A', 'C', 'D', 'E', 'B', 'A']\n",
      "['A', 'C', 'E', 'B', 'D', 'A']\n",
      "['A', 'C', 'E', 'D', 'B', 'A']\n",
      "['A', 'D', 'B', 'C', 'E', 'A']\n",
      "['A', 'D', 'B', 'E', 'C', 'A']\n",
      "['A', 'D', 'C', 'B', 'E', 'A']\n",
      "['A', 'D', 'C', 'E', 'B', 'A']\n",
      "['A', 'D', 'E', 'B', 'C', 'A']\n",
      "['A', 'D', 'E', 'C', 'B', 'A']\n",
      "['A', 'E', 'B', 'C', 'D', 'A']\n",
      "['A', 'E', 'B', 'D', 'C', 'A']\n",
      "['A', 'E', 'C', 'B', 'D', 'A']\n",
      "['A', 'E', 'C', 'D', 'B', 'A']\n",
      "['A', 'E', 'D', 'B', 'C', 'A']\n",
      "['A', 'E', 'D', 'C', 'B', 'A']\n",
      "['B', 'A', 'C', 'D', 'E', 'B']\n",
      "['B', 'A', 'C', 'E', 'D', 'B']\n",
      "['B', 'A', 'D', 'C', 'E', 'B']\n",
      "['B', 'A', 'D', 'E', 'C', 'B']\n",
      "['B', 'A', 'E', 'C', 'D', 'B']\n",
      "['B', 'A', 'E', 'D', 'C', 'B']\n",
      "['B', 'C', 'A', 'D', 'E', 'B']\n",
      "['B', 'C', 'A', 'E', 'D', 'B']\n",
      "['B', 'C', 'D', 'A', 'E', 'B']\n",
      "['B', 'C', 'D', 'E', 'A', 'B']\n",
      "['B', 'C', 'E', 'A', 'D', 'B']\n",
      "['B', 'C', 'E', 'D', 'A', 'B']\n",
      "['B', 'D', 'A', 'C', 'E', 'B']\n",
      "['B', 'D', 'A', 'E', 'C', 'B']\n",
      "['B', 'D', 'C', 'A', 'E', 'B']\n",
      "['B', 'D', 'C', 'E', 'A', 'B']\n",
      "['B', 'D', 'E', 'A', 'C', 'B']\n",
      "['B', 'D', 'E', 'C', 'A', 'B']\n",
      "['B', 'E', 'A', 'C', 'D', 'B']\n",
      "['B', 'E', 'A', 'D', 'C', 'B']\n",
      "['B', 'E', 'C', 'A', 'D', 'B']\n",
      "['B', 'E', 'C', 'D', 'A', 'B']\n",
      "['B', 'E', 'D', 'A', 'C', 'B']\n",
      "['B', 'E', 'D', 'C', 'A', 'B']\n",
      "['C', 'A', 'B', 'D', 'E', 'C']\n",
      "['C', 'A', 'B', 'E', 'D', 'C']\n",
      "['C', 'A', 'D', 'B', 'E', 'C']\n",
      "['C', 'A', 'D', 'E', 'B', 'C']\n",
      "['C', 'A', 'E', 'B', 'D', 'C']\n",
      "['C', 'A', 'E', 'D', 'B', 'C']\n",
      "['C', 'B', 'A', 'D', 'E', 'C']\n",
      "['C', 'B', 'A', 'E', 'D', 'C']\n",
      "['C', 'B', 'D', 'A', 'E', 'C']\n",
      "['C', 'B', 'D', 'E', 'A', 'C']\n",
      "['C', 'B', 'E', 'A', 'D', 'C']\n",
      "['C', 'B', 'E', 'D', 'A', 'C']\n",
      "['C', 'D', 'A', 'B', 'E', 'C']\n",
      "['C', 'D', 'A', 'E', 'B', 'C']\n",
      "['C', 'D', 'B', 'A', 'E', 'C']\n",
      "['C', 'D', 'B', 'E', 'A', 'C']\n",
      "['C', 'D', 'E', 'A', 'B', 'C']\n",
      "['C', 'D', 'E', 'B', 'A', 'C']\n",
      "['C', 'E', 'A', 'B', 'D', 'C']\n",
      "['C', 'E', 'A', 'D', 'B', 'C']\n",
      "['C', 'E', 'B', 'A', 'D', 'C']\n",
      "['C', 'E', 'B', 'D', 'A', 'C']\n",
      "['C', 'E', 'D', 'A', 'B', 'C']\n",
      "['C', 'E', 'D', 'B', 'A', 'C']\n",
      "['D', 'A', 'B', 'C', 'E', 'D']\n",
      "['D', 'A', 'B', 'E', 'C', 'D']\n",
      "['D', 'A', 'C', 'B', 'E', 'D']\n",
      "['D', 'A', 'C', 'E', 'B', 'D']\n",
      "['D', 'A', 'E', 'B', 'C', 'D']\n",
      "['D', 'A', 'E', 'C', 'B', 'D']\n",
      "['D', 'B', 'A', 'C', 'E', 'D']\n",
      "['D', 'B', 'A', 'E', 'C', 'D']\n",
      "['D', 'B', 'C', 'A', 'E', 'D']\n",
      "['D', 'B', 'C', 'E', 'A', 'D']\n",
      "['D', 'B', 'E', 'A', 'C', 'D']\n",
      "['D', 'B', 'E', 'C', 'A', 'D']\n",
      "['D', 'C', 'A', 'B', 'E', 'D']\n",
      "['D', 'C', 'A', 'E', 'B', 'D']\n",
      "['D', 'C', 'B', 'A', 'E', 'D']\n",
      "['D', 'C', 'B', 'E', 'A', 'D']\n",
      "['D', 'C', 'E', 'A', 'B', 'D']\n",
      "['D', 'C', 'E', 'B', 'A', 'D']\n",
      "['D', 'E', 'A', 'B', 'C', 'D']\n",
      "['D', 'E', 'A', 'C', 'B', 'D']\n",
      "['D', 'E', 'B', 'A', 'C', 'D']\n",
      "['D', 'E', 'B', 'C', 'A', 'D']\n",
      "['D', 'E', 'C', 'A', 'B', 'D']\n",
      "['D', 'E', 'C', 'B', 'A', 'D']\n",
      "['E', 'A', 'B', 'C', 'D', 'E']\n",
      "['E', 'A', 'B', 'D', 'C', 'E']\n",
      "['E', 'A', 'C', 'B', 'D', 'E']\n",
      "['E', 'A', 'C', 'D', 'B', 'E']\n",
      "['E', 'A', 'D', 'B', 'C', 'E']\n",
      "['E', 'A', 'D', 'C', 'B', 'E']\n",
      "['E', 'B', 'A', 'C', 'D', 'E']\n",
      "['E', 'B', 'A', 'D', 'C', 'E']\n",
      "['E', 'B', 'C', 'A', 'D', 'E']\n",
      "['E', 'B', 'C', 'D', 'A', 'E']\n",
      "['E', 'B', 'D', 'A', 'C', 'E']\n",
      "['E', 'B', 'D', 'C', 'A', 'E']\n",
      "['E', 'C', 'A', 'B', 'D', 'E']\n",
      "['E', 'C', 'A', 'D', 'B', 'E']\n",
      "['E', 'C', 'B', 'A', 'D', 'E']\n",
      "['E', 'C', 'B', 'D', 'A', 'E']\n",
      "['E', 'C', 'D', 'A', 'B', 'E']\n",
      "['E', 'C', 'D', 'B', 'A', 'E']\n",
      "['E', 'D', 'A', 'B', 'C', 'E']\n",
      "['E', 'D', 'A', 'C', 'B', 'E']\n",
      "['E', 'D', 'B', 'A', 'C', 'E']\n",
      "['E', 'D', 'B', 'C', 'A', 'E']\n",
      "['E', 'D', 'C', 'A', 'B', 'E']\n",
      "['E', 'D', 'C', 'B', 'A', 'E']\n"
     ]
    }
   ],
   "source": [
    "routes = []\n",
    "city_name = ['A','B','C','D','E']\n",
    "\n",
    "for a in city_name:\n",
    "    for b in city_name:\n",
    "        for c in city_name:\n",
    "            for d in city_name:\n",
    "                for e in city_name:\n",
    "                    \n",
    "                    if a!=b and a!=c and a!=d and a!=e and b!=c and b!=d and b!=e and c!=d and c!=e and d!=e:\n",
    "                        routes.append([a,b,c,d,e,a])\n",
    "                        \n",
    "                        \n",
    "tot_possible_path = len(routes)\n",
    "print(f'No. possible paths are: {tot_possible_path}')\n",
    "\n",
    "print('All possible Routes are: ')\n",
    "for i in routes:\n",
    "    print(i)"
   ]
  },
  {
   "cell_type": "code",
   "execution_count": 6,
   "id": "2908ed23",
   "metadata": {},
   "outputs": [
    {
     "name": "stdout",
     "output_type": "stream",
     "text": [
      "[57, 75, 62, 37, 50, 59, 58, 72, 56, 54, 61, 71, 52, 28, 51, 51, 36, 40, 52, 40, 46, 41, 52, 65, 54, 71, 51, 40, 41, 65, 36, 52, 52, 57, 52, 75, 61, 46, 40, 62, 58, 37, 56, 51, 28, 50, 72, 59, 37, 59, 28, 36, 40, 52, 40, 65, 46, 58, 51, 72, 50, 52, 41, 56, 57, 54, 62, 52, 51, 61, 75, 71, 75, 50, 72, 61, 52, 46, 71, 41, 52, 52, 56, 28, 59, 40, 65, 51, 62, 51, 57, 58, 54, 36, 37, 40, 57, 62, 58, 56, 52, 51, 54, 51, 36, 52, 61, 40, 37, 28, 40, 46, 50, 41, 75, 72, 71, 52, 59, 65]\n"
     ]
    }
   ],
   "source": [
    "cost_per_tour = []\n",
    "for route in routes:\n",
    "    trip_cost = 0\n",
    "    for i in range(len(route)-1):\n",
    "        \n",
    "\n",
    "        curr_city = route[i]\n",
    "        curr_city_nu = city_number(curr_city)\n",
    "        \n",
    "        \n",
    "        dest_city = route[i+1]\n",
    "        dest_city_nu = city_number(dest_city)\n",
    "        \n",
    "        cost = cost_of_trip(curr_city_nu,dest_city_nu)\n",
    "        \n",
    "        trip_cost = trip_cost + cost\n",
    "        \n",
    "    cost_per_tour.append(trip_cost)\n",
    "        \n",
    "        \n",
    "print(cost_per_tour)"
   ]
  },
  {
   "cell_type": "code",
   "execution_count": 7,
   "id": "35828f52",
   "metadata": {},
   "outputs": [],
   "source": [
    "min_index = 0\n",
    "list_len = len(cost_per_tour)\n",
    "for index in range(list_len):\n",
    "    if cost_per_tour[index] < cost_per_tour[min_index]:\n",
    "        min_index = index\n",
    "min_cost = cost_per_tour[min_index]\n"
   ]
  },
  {
   "cell_type": "code",
   "execution_count": 8,
   "id": "e633b598",
   "metadata": {},
   "outputs": [
    {
     "data": {
      "text/plain": [
       "[13, 44, 50, 83, 109]"
      ]
     },
     "execution_count": 8,
     "metadata": {},
     "output_type": "execute_result"
    }
   ],
   "source": [
    "routes_with_min_cost = []\n",
    "for i in range(len(cost_per_tour)):\n",
    "    if cost_per_tour[i] == min_cost:\n",
    "        routes_with_min_cost.append(i)\n",
    "    \n",
    "routes_with_min_cost\n",
    "\n"
   ]
  },
  {
   "cell_type": "code",
   "execution_count": 9,
   "id": "78bfd173",
   "metadata": {},
   "outputs": [
    {
     "name": "stdout",
     "output_type": "stream",
     "text": [
      "Following are 5 routes with minimum cost\n",
      "\n",
      "Route with minimum cost is :['A', 'D', 'B', 'E', 'C', 'A'] with cost = 28\n",
      "Route with minimum cost is :['B', 'E', 'C', 'A', 'D', 'B'] with cost = 28\n",
      "Route with minimum cost is :['C', 'A', 'D', 'B', 'E', 'C'] with cost = 28\n",
      "Route with minimum cost is :['D', 'B', 'E', 'C', 'A', 'D'] with cost = 28\n",
      "Route with minimum cost is :['E', 'C', 'A', 'D', 'B', 'E'] with cost = 28\n"
     ]
    }
   ],
   "source": [
    "print(f'Following are {len(routes_with_min_cost)} routes with minimum cost\\n')\n",
    "\n",
    "for i in routes_with_min_cost:\n",
    "    print(f'Route with minimum cost is :{routes[i]} with cost = {cost_per_tour[i]}')"
   ]
  },
  {
   "cell_type": "code",
   "execution_count": null,
   "id": "36935263",
   "metadata": {},
   "outputs": [],
   "source": []
  }
 ],
 "metadata": {
  "kernelspec": {
   "display_name": "Python 3 (ipykernel)",
   "language": "python",
   "name": "python3"
  },
  "language_info": {
   "codemirror_mode": {
    "name": "ipython",
    "version": 3
   },
   "file_extension": ".py",
   "mimetype": "text/x-python",
   "name": "python",
   "nbconvert_exporter": "python",
   "pygments_lexer": "ipython3",
   "version": "3.10.4"
  }
 },
 "nbformat": 4,
 "nbformat_minor": 5
}
